{
  "cells": [
    {
      "cell_type": "code",
      "source": [
        "import pandas as pd\n",
        "\n",
        "# Load the Complaints Dashboard dataset\n",
        "file_path = r'/content/complaint_dashboard (1).csv'\n",
        "df_complaints = pd.read_csv(file_path)\n",
        "\n",
        "# Display the first few rows of the dataset to get an overview\n",
        "print(df_complaints.head())\n"
      ],
      "metadata": {
        "id": "44sWKeZv2mXl",
        "outputId": "1de7e1a6-ed70-428d-8c85-d988c2ddc6cb",
        "colab": {
          "base_uri": "https://localhost:8080/"
        }
      },
      "execution_count": 1,
      "outputs": [
        {
          "output_type": "stream",
          "name": "stdout",
          "text": [
            "   Complaint ID  Customer ID  Product/Service Complaint Category  Date Filed  \\\n",
            "0        820407        28631   Insurance Plan           Delivery  2024-05-24   \n",
            "1        262537        23083    Digital Scale    Product Quality  2024-06-30   \n",
            "2        459273        52729    Digital Scale            Service  2024-05-10   \n",
            "3        271580        63115    Personal Safe           Delivery  2023-10-26   \n",
            "4        282178        17532  Fitness Tracker    Product Quality  2024-07-18   \n",
            "\n",
            "  Date Resolved      Status  Resolution Time (Days)  \n",
            "0    2024-06-11    Resolved                    18.0  \n",
            "1    2024-07-28    Resolved                    28.0  \n",
            "2    2024-05-20    Resolved                    10.0  \n",
            "3           NaN  Unresolved                     NaN  \n",
            "4    2024-08-16    Resolved                    29.0  \n"
          ]
        }
      ]
    },
    {
      "cell_type": "code",
      "source": [
        "# summary of the dataset\n",
        "print(df_complaints.info())\n",
        "\n",
        "# Checking for missing values\n",
        "print(df_complaints.isnull().sum())\n",
        "\n",
        "#basic statistics for the numerical columns\n",
        "print(df_complaints.describe())\n",
        "\n",
        "# Inspect unique values in categorical columns\n",
        "print(df_complaints['Complaint Category'].unique())\n",
        "print(df_complaints['Status'].unique())\n"
      ],
      "metadata": {
        "id": "EvqBCc-Z3IDz",
        "outputId": "86810274-6749-46f3-98f4-522c8a672e38",
        "colab": {
          "base_uri": "https://localhost:8080/"
        }
      },
      "execution_count": 2,
      "outputs": [
        {
          "output_type": "stream",
          "name": "stdout",
          "text": [
            "<class 'pandas.core.frame.DataFrame'>\n",
            "RangeIndex: 1000 entries, 0 to 999\n",
            "Data columns (total 8 columns):\n",
            " #   Column                  Non-Null Count  Dtype  \n",
            "---  ------                  --------------  -----  \n",
            " 0   Complaint ID            1000 non-null   int64  \n",
            " 1   Customer ID             1000 non-null   int64  \n",
            " 2   Product/Service         1000 non-null   object \n",
            " 3   Complaint Category      1000 non-null   object \n",
            " 4   Date Filed              1000 non-null   object \n",
            " 5   Date Resolved           813 non-null    object \n",
            " 6   Status                  1000 non-null   object \n",
            " 7   Resolution Time (Days)  813 non-null    float64\n",
            "dtypes: float64(1), int64(2), object(5)\n",
            "memory usage: 62.6+ KB\n",
            "None\n",
            "Complaint ID                0\n",
            "Customer ID                 0\n",
            "Product/Service             0\n",
            "Complaint Category          0\n",
            "Date Filed                  0\n",
            "Date Resolved             187\n",
            "Status                      0\n",
            "Resolution Time (Days)    187\n",
            "dtype: int64\n",
            "        Complaint ID   Customer ID  Resolution Time (Days)\n",
            "count    1000.000000   1000.000000              813.000000\n",
            "mean   555046.157000  55916.983000               15.246002\n",
            "std    257918.147928  26196.238824                8.804024\n",
            "min    100216.000000  10082.000000                1.000000\n",
            "25%    333191.500000  32872.500000                7.000000\n",
            "50%    556584.500000  57028.000000               15.000000\n",
            "75%    776804.000000  78971.500000               23.000000\n",
            "max    999689.000000  99837.000000               30.000000\n",
            "['Delivery' 'Product Quality' 'Service' 'Billing' 'Technical Support']\n",
            "['Resolved' 'Unresolved']\n"
          ]
        }
      ]
    },
    {
      "cell_type": "code",
      "source": [
        "# Convert date fields to datetime\n",
        "df_complaints['Date Filed'] = pd.to_datetime(df_complaints['Date Filed'])\n",
        "df_complaints['Date Resolved'] = pd.to_datetime(df_complaints['Date Resolved'])\n",
        "\n",
        "# Handling missing values in the 'Date Resolved' and 'Resolution Time (Days)' columns\n",
        "# Since unresolved complaints have missing 'Date Resolved' and 'Resolution Time (Days)',\n",
        "# we can fill these with appropriate placeholders\n",
        "df_complaints['Date Resolved'] = df_complaints['Date Resolved'].fillna('Unresolved')\n",
        "df_complaints['Resolution Time (Days)'] = df_complaints['Resolution Time (Days)'].fillna(0)\n",
        "\n",
        "# Ensure categorical columns are of type 'category'\n",
        "df_complaints['Complaint Category'] = df_complaints['Complaint Category'].astype('category')\n",
        "df_complaints['Status'] = df_complaints['Status'].astype('category')\n",
        "\n",
        "# Check the data again after preprocessing\n",
        "print(df_complaints.info())\n",
        "print(df_complaints.head())\n"
      ],
      "metadata": {
        "id": "0FyRSbN93WP0",
        "outputId": "a9250ac9-3d0c-4e37-cbfa-48b1efd719cd",
        "colab": {
          "base_uri": "https://localhost:8080/"
        }
      },
      "execution_count": 3,
      "outputs": [
        {
          "output_type": "stream",
          "name": "stdout",
          "text": [
            "<class 'pandas.core.frame.DataFrame'>\n",
            "RangeIndex: 1000 entries, 0 to 999\n",
            "Data columns (total 8 columns):\n",
            " #   Column                  Non-Null Count  Dtype         \n",
            "---  ------                  --------------  -----         \n",
            " 0   Complaint ID            1000 non-null   int64         \n",
            " 1   Customer ID             1000 non-null   int64         \n",
            " 2   Product/Service         1000 non-null   object        \n",
            " 3   Complaint Category      1000 non-null   category      \n",
            " 4   Date Filed              1000 non-null   datetime64[ns]\n",
            " 5   Date Resolved           1000 non-null   object        \n",
            " 6   Status                  1000 non-null   category      \n",
            " 7   Resolution Time (Days)  1000 non-null   float64       \n",
            "dtypes: category(2), datetime64[ns](1), float64(1), int64(2), object(2)\n",
            "memory usage: 49.3+ KB\n",
            "None\n",
            "   Complaint ID  Customer ID  Product/Service Complaint Category Date Filed  \\\n",
            "0        820407        28631   Insurance Plan           Delivery 2024-05-24   \n",
            "1        262537        23083    Digital Scale    Product Quality 2024-06-30   \n",
            "2        459273        52729    Digital Scale            Service 2024-05-10   \n",
            "3        271580        63115    Personal Safe           Delivery 2023-10-26   \n",
            "4        282178        17532  Fitness Tracker    Product Quality 2024-07-18   \n",
            "\n",
            "         Date Resolved      Status  Resolution Time (Days)  \n",
            "0  2024-06-11 00:00:00    Resolved                    18.0  \n",
            "1  2024-07-28 00:00:00    Resolved                    28.0  \n",
            "2  2024-05-20 00:00:00    Resolved                    10.0  \n",
            "3           Unresolved  Unresolved                     0.0  \n",
            "4  2024-08-16 00:00:00    Resolved                    29.0  \n"
          ]
        }
      ]
    },
    {
      "cell_type": "code",
      "source": [
        "# Average resolution time\n",
        "avg_resolution_time = df_complaints['Resolution Time (Days)'].mean()\n",
        "print(f'Average Resolution Time: {avg_resolution_time:.2f} days')\n",
        "\n",
        "# Number of complaints by category\n",
        "complaints_by_category = df_complaints['Complaint Category'].value_counts()\n",
        "print('Number of Complaints by Category:')\n",
        "print(complaints_by_category)\n",
        "\n",
        "# Proportion of resolved vs. unresolved complaints\n",
        "resolved_vs_unresolved = df_complaints['Status'].value_counts(normalize=True)\n",
        "print('Proportion of Resolved vs Unresolved Complaints:')\n",
        "print(resolved_vs_unresolved)\n"
      ],
      "metadata": {
        "id": "x-OzvI9L32yJ",
        "outputId": "ede67867-043a-46ef-9c98-7686b55ef93b",
        "colab": {
          "base_uri": "https://localhost:8080/"
        }
      },
      "execution_count": 4,
      "outputs": [
        {
          "output_type": "stream",
          "name": "stdout",
          "text": [
            "Average Resolution Time: 12.39 days\n",
            "Number of Complaints by Category:\n",
            "Complaint Category\n",
            "Service              221\n",
            "Technical Support    209\n",
            "Product Quality      196\n",
            "Delivery             190\n",
            "Billing              184\n",
            "Name: count, dtype: int64\n",
            "Proportion of Resolved vs Unresolved Complaints:\n",
            "Status\n",
            "Resolved      0.813\n",
            "Unresolved    0.187\n",
            "Name: proportion, dtype: float64\n"
          ]
        }
      ]
    },
    {
      "cell_type": "code",
      "source": [
        "# Save the cleaned dataset to the current working directory\n",
        "cleaned_file_path = 'cleaned_complaints_dashboard.csv'\n",
        "df_complaints.to_csv(cleaned_file_path, index=False)\n",
        "\n",
        "print(f\"Cleaned dataset saved to {cleaned_file_path}\")\n"
      ],
      "metadata": {
        "id": "I-3dkqfj4k7z",
        "outputId": "249162b8-1de0-475d-a639-33270a014ec6",
        "colab": {
          "base_uri": "https://localhost:8080/"
        }
      },
      "execution_count": 6,
      "outputs": [
        {
          "output_type": "stream",
          "name": "stdout",
          "text": [
            "Cleaned dataset saved to cleaned_complaints_dashboard.csv\n"
          ]
        }
      ]
    },
    {
      "cell_type": "code",
      "source": [
        "from google.colab import files\n",
        "\n",
        "# Download the CSV file to your local machine\n",
        "files.download(cleaned_file_path)\n"
      ],
      "metadata": {
        "id": "VHu6OS994q9i",
        "outputId": "57201f8c-5fdc-4ef9-ad57-ea8778ca30c7",
        "colab": {
          "base_uri": "https://localhost:8080/",
          "height": 17
        }
      },
      "execution_count": 7,
      "outputs": [
        {
          "output_type": "display_data",
          "data": {
            "text/plain": [
              "<IPython.core.display.Javascript object>"
            ],
            "application/javascript": [
              "\n",
              "    async function download(id, filename, size) {\n",
              "      if (!google.colab.kernel.accessAllowed) {\n",
              "        return;\n",
              "      }\n",
              "      const div = document.createElement('div');\n",
              "      const label = document.createElement('label');\n",
              "      label.textContent = `Downloading \"${filename}\": `;\n",
              "      div.appendChild(label);\n",
              "      const progress = document.createElement('progress');\n",
              "      progress.max = size;\n",
              "      div.appendChild(progress);\n",
              "      document.body.appendChild(div);\n",
              "\n",
              "      const buffers = [];\n",
              "      let downloaded = 0;\n",
              "\n",
              "      const channel = await google.colab.kernel.comms.open(id);\n",
              "      // Send a message to notify the kernel that we're ready.\n",
              "      channel.send({})\n",
              "\n",
              "      for await (const message of channel.messages) {\n",
              "        // Send a message to notify the kernel that we're ready.\n",
              "        channel.send({})\n",
              "        if (message.buffers) {\n",
              "          for (const buffer of message.buffers) {\n",
              "            buffers.push(buffer);\n",
              "            downloaded += buffer.byteLength;\n",
              "            progress.value = downloaded;\n",
              "          }\n",
              "        }\n",
              "      }\n",
              "      const blob = new Blob(buffers, {type: 'application/binary'});\n",
              "      const a = document.createElement('a');\n",
              "      a.href = window.URL.createObjectURL(blob);\n",
              "      a.download = filename;\n",
              "      div.appendChild(a);\n",
              "      a.click();\n",
              "      div.remove();\n",
              "    }\n",
              "  "
            ]
          },
          "metadata": {}
        },
        {
          "output_type": "display_data",
          "data": {
            "text/plain": [
              "<IPython.core.display.Javascript object>"
            ],
            "application/javascript": [
              "download(\"download_0a64a477-9032-4646-aae2-0a67a27e4073\", \"cleaned_complaints_dashboard.csv\", 86173)"
            ]
          },
          "metadata": {}
        }
      ]
    }
  ],
  "metadata": {
    "colab": {
      "name": "Welcome To Colab",
      "provenance": []
    },
    "kernelspec": {
      "display_name": "Python 3",
      "name": "python3"
    }
  },
  "nbformat": 4,
  "nbformat_minor": 0
}